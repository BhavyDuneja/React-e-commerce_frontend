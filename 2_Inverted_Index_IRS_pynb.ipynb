{
  "nbformat": 4,
  "nbformat_minor": 0,
  "metadata": {
    "colab": {
      "provenance": [],
      "authorship_tag": "ABX9TyNNbqcMP3KgH0kO6uLkKKne",
      "include_colab_link": true
    },
    "kernelspec": {
      "name": "python3",
      "display_name": "Python 3"
    },
    "language_info": {
      "name": "python"
    }
  },
  "cells": [
    {
      "cell_type": "markdown",
      "metadata": {
        "id": "view-in-github",
        "colab_type": "text"
      },
      "source": [
        "<a href=\"https://colab.research.google.com/github/Bhavya0928/React-e-commerce_frontend/blob/master/2_Inverted_Index_IRS_pynb.ipynb\" target=\"_parent\"><img src=\"https://colab.research.google.com/assets/colab-badge.svg\" alt=\"Open In Colab\"/></a>"
      ]
    },
    {
      "cell_type": "code",
      "source": [
        "with open('file.txt', 'r') as f:\n",
        "    text = f.read()\n",
        "    docs = text.split('\\n')\n"
      ],
      "metadata": {
        "id": "sNcTgLQtzdui"
      },
      "execution_count": 9,
      "outputs": []
    },
    {
      "cell_type": "code",
      "source": [
        "import nltk\n",
        "nltk.download('punkt')\n",
        "nltk.download('stopwords')\n",
        "\n",
        "from nltk.tokenize import word_tokenize\n",
        "from nltk.corpus import stopwords\n",
        "\n",
        "# Preprocess the documents\n",
        "stop_words = set(stopwords.words('english'))\n",
        "processed_docs = []\n",
        "for doc in docs:\n",
        "    tokens = word_tokenize(doc)\n",
        "    filtered_tokens = [token.lower() for token in tokens if token.isalpha() and token.lower() not in stop_words]\n",
        "    processed_docs.append(filtered_tokens)\n"
      ],
      "metadata": {
        "colab": {
          "base_uri": "https://localhost:8080/"
        },
        "id": "SJcGvpcxzmty",
        "outputId": "3963c18f-b659-47be-e48c-ecd1f2425e8e"
      },
      "execution_count": 10,
      "outputs": [
        {
          "output_type": "stream",
          "name": "stderr",
          "text": [
            "[nltk_data] Downloading package punkt to /root/nltk_data...\n",
            "[nltk_data]   Package punkt is already up-to-date!\n",
            "[nltk_data] Downloading package stopwords to /root/nltk_data...\n",
            "[nltk_data]   Package stopwords is already up-to-date!\n"
          ]
        }
      ]
    },
    {
      "cell_type": "code",
      "source": [
        "inverted_index = {}\n",
        "\n",
        "for doc_id, doc in enumerate(processed_docs):\n",
        "    for term in doc:\n",
        "        if term not in inverted_index:\n",
        "            inverted_index[term] = []\n",
        "        inverted_index[term].append(doc_id)\n"
      ],
      "metadata": {
        "id": "prdwSAt_zpgn"
      },
      "execution_count": 11,
      "outputs": []
    },
    {
      "cell_type": "code",
      "source": [
        "def search_index(query, inverted_index, docs):\n",
        "    query_terms = query.lower().split()\n",
        "    result_docs = []\n",
        "    for term in query_terms:\n",
        "        if term in inverted_index:\n",
        "            result_docs.extend(inverted_index[term])\n",
        "    result_docs = list(set(result_docs))\n",
        "    return [docs[doc_id] for doc_id in result_docs]\n",
        "# Example search query\n",
        "query = \"third\"\n",
        "result_docs = search_index(query, inverted_index, docs)\n",
        "print(result_docs)\n",
        "\n"
      ],
      "metadata": {
        "colab": {
          "base_uri": "https://localhost:8080/"
        },
        "id": "sAUOfe8Hzr-z",
        "outputId": "6c867e3a-fa88-4cdd-a742-726fe63851d9"
      },
      "execution_count": 18,
      "outputs": [
        {
          "output_type": "stream",
          "name": "stdout",
          "text": [
            "['This is the third, this is it now.']\n"
          ]
        }
      ]
    }
  ]
}